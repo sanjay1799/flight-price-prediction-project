{
 "cells": [
  {
   "cell_type": "code",
   "execution_count": null,
   "metadata": {},
   "outputs": [],
   "source": [
    "import time\n",
    "import pandas as pd\n",
    "from selenium import webdriver \n",
    "from selenium.webdriver.common.keys import Keys\n",
    "from selenium.webdriver.common.action_chains import ActionChains \n",
    "from selenium.webdriver.common.by import By\n",
    "from bs4 import *\n",
    "import requests"
   ]
  },
  {
   "cell_type": "code",
   "execution_count": null,
   "metadata": {},
   "outputs": [],
   "source": [
    "driver=webdriver.Chrome(r\"C:\\Users\\Sanjay\\Downloads\\chromedriver_win32 (1)/chromedriver.exe\")"
   ]
  },
  {
   "cell_type": "code",
   "execution_count": null,
   "metadata": {},
   "outputs": [],
   "source": [
    "data=[]\n",
    "columns=[\"Airline\",\"Source\",\"Destination\",\"Dep_Time\",\"Arrival_Time\",\"Duration\",\"Total_Stops\",\"Price\",\"Date_of_Journey\"]\n",
    "l1=[\"mumbai\",\"bangalore\",\"hyderabad\",\"kolkata\",\"chennai\",\"kochin\"]\n",
    "l2=[\"goa\",\"jaipur\",\"lucknow\",\"ahmedabad\",\"trichy\"]\n",
    "for i in l1:\n",
    "    for j in l2:\n",
    "        driver.get(\"https://www.yatra.com/\")\n",
    "        time.sleep(3)\n",
    "        s1=driver.find_element_by_xpath(\"/html/body/div[2]/div/section/div[1]/div/div[1]/section/div/div/div/div[1]/div[1]/div[2]/ul/li[1]/ul/li[1]/div/label/input\")\n",
    "        s1.click()\n",
    "        s1.send_keys(i)\n",
    "        s1.send_keys(Keys.ENTER)\n",
    "        time.sleep(2)\n",
    "        s2=driver.find_element_by_xpath(\"/html/body/div[2]/div/section/div[1]/div/div[1]/section/div/div/div/div[1]/div[1]/div[2]/ul/li[1]/ul/li[3]/div/label/input\")\n",
    "        s2.click()\n",
    "        s2.send_keys(j)\n",
    "        s2.send_keys(Keys.ENTER)\n",
    "        time.sleep(2)\n",
    "        driver.find_element_by_xpath(\"/html/body/div[2]/div/section/div[1]/div/div[1]/section/div/div/div/div[1]/div[1]/div[2]/ul/li[2]/ul/li[1]/section/label/input\").click()\n",
    "        time.sleep(2)\n",
    "        driver.find_element_by_xpath(\"/html/body/div[2]/div/section/div[1]/div/div[1]/section/div/div/div/div[1]/div[1]/div[2]/ul/li[2]/ul/li[1]/section/div/div[2]/div[2]/div[2]/div[2]/div/div[2]/table/tbody/tr[2]/td[2]\").click()\n",
    "        time.sleep(2)\n",
    "        driver.find_element_by_xpath(\"/html/body/div[2]/div/section/div[1]/div/div[1]/section/div/div/div/div[1]/div[3]/div[2]/input\").click()\n",
    "        time.sleep(7)\n",
    "        products = driver.find_elements(By.XPATH,\"//div[@class='flight-seg col-12']//div[@class='flightItem border-shadow pr']\")\n",
    "        for product in products:\n",
    "            airline=product.find_element(By.XPATH,\".//div[@class='fs-13 airline-name no-pad col-8']/span\").text\n",
    "            source=i\n",
    "            destination=j\n",
    "            dep=product.find_element(By.XPATH,\".//div[@class='i-b pr']\").text\n",
    "            arr=product.find_element(By.XPATH,\".//p[@class='bold fs-15 mb-2 pr time']\").text\n",
    "            dur=product.find_element(By.XPATH,\".//p[@class='fs-12 bold du mb-2']\").text\n",
    "            ts=product.find_element(By.XPATH,\".//div[@class=' font-lightgrey fs-10 tipsy i-b fs-10']/span\").text\n",
    "            p=product.find_element(By.XPATH,\".//div[@class='i-b tipsy fare-summary-tooltip fs-18']\").text\n",
    "            date=\"07/02/2022\"\n",
    "            data.append([airline,source,destination,dep,arr,dur,ts,p,date])"
   ]
  },
  {
   "cell_type": "code",
   "execution_count": null,
   "metadata": {},
   "outputs": [],
   "source": [
    "df1=pd.DataFrame(data,columns=columns)\n",
    "df1"
   ]
  },
  {
   "cell_type": "code",
   "execution_count": null,
   "metadata": {},
   "outputs": [],
   "source": [
    "data=[]\n",
    "columns=[\"Airline\",\"Source\",\"Destination\",\"Dep_Time\",\"Arrival_Time\",\"Duration\",\"Total_Stops\",\"Price\",\"Date_of_Journey\"]\n",
    "l1=[\"mumbai\",\"bangalore\",\"hyderabad\",\"kolkata\",\"chennai\",\"kochin\"]\n",
    "l2=[\"goa\",\"jaipur\",\"lucknow\",\"ahmedabad\",\"trichy\"]\n",
    "for i in l1:\n",
    "    for j in l2:\n",
    "        driver.get(\"https://www.yatra.com/\")\n",
    "        time.sleep(3)\n",
    "        s1=driver.find_element_by_xpath(\"/html/body/div[2]/div/section/div[1]/div/div[1]/section/div/div/div/div[1]/div[1]/div[2]/ul/li[1]/ul/li[1]/div/label/input\")\n",
    "        s1.click()\n",
    "        s1.send_keys(i)\n",
    "        s1.send_keys(Keys.ENTER)\n",
    "        time.sleep(2)\n",
    "        s2=driver.find_element_by_xpath(\"/html/body/div[2]/div/section/div[1]/div/div[1]/section/div/div/div/div[1]/div[1]/div[2]/ul/li[1]/ul/li[3]/div/label/input\")\n",
    "        s2.click()\n",
    "        s2.send_keys(j)\n",
    "        s2.send_keys(Keys.ENTER)\n",
    "        time.sleep(2)\n",
    "        driver.find_element_by_xpath(\"/html/body/div[2]/div/section/div[1]/div/div[1]/section/div/div/div/div[1]/div[1]/div[2]/ul/li[2]/ul/li[1]/section/label/input\").click()\n",
    "        time.sleep(2)\n",
    "        driver.find_element_by_xpath(\"/html/body/div[2]/div/section/div[1]/div/div[1]/section/div/div/div/div[1]/div[1]/div[2]/ul/li[2]/ul/li[1]/section/div/div[2]/div[2]/div[2]/div[2]/div/div[2]/table/tbody/tr[2]/td[3]\").click()\n",
    "        time.sleep(2)\n",
    "        driver.find_element_by_xpath(\"/html/body/div[2]/div/section/div[1]/div/div[1]/section/div/div/div/div[1]/div[3]/div[2]/input\").click()\n",
    "        time.sleep(7)\n",
    "        products = driver.find_elements(By.XPATH,\"//div[@class='flight-seg col-12']//div[@class='flightItem border-shadow pr']\")\n",
    "        for product in products:\n",
    "            airline=product.find_element(By.XPATH,\".//div[@class='fs-13 airline-name no-pad col-8']/span\").text\n",
    "            source=i\n",
    "            destination=j\n",
    "            dep=product.find_element(By.XPATH,\".//div[@class='i-b pr']\").text\n",
    "            arr=product.find_element(By.XPATH,\".//p[@class='bold fs-15 mb-2 pr time']\").text\n",
    "            dur=product.find_element(By.XPATH,\".//p[@class='fs-12 bold du mb-2']\").text\n",
    "            ts=product.find_element(By.XPATH,\".//div[@class=' font-lightgrey fs-10 tipsy i-b fs-10']/span\").text\n",
    "            p=product.find_element(By.XPATH,\".//div[@class='i-b tipsy fare-summary-tooltip fs-18']\").text\n",
    "            date=\"15/02/2022\"\n",
    "            data.append([airline,source,destination,dep,arr,dur,ts,p,date])"
   ]
  },
  {
   "cell_type": "code",
   "execution_count": null,
   "metadata": {},
   "outputs": [],
   "source": [
    "df2=pd.DataFrame(data,columns=columns)\n",
    "df2"
   ]
  },
  {
   "cell_type": "code",
   "execution_count": null,
   "metadata": {},
   "outputs": [],
   "source": [
    "data=[]\n",
    "columns=[\"Airline\",\"Source\",\"Destination\",\"Dep_Time\",\"Arrival_Time\",\"Duration\",\"Total_Stops\",\"Price\",\"Date_of_Journey\"]\n",
    "l1=[\"mumbai\",\"bangalore\",\"hyderabad\",\"kolkata\",\"chennai\",\"kochin\"]\n",
    "l2=[\"goa\",\"jaipur\",\"lucknow\",\"ahmedabad\",\"trichy\"]\n",
    "for i in l1:\n",
    "    for j in l2:\n",
    "        driver.get(\"https://www.yatra.com/\")\n",
    "        time.sleep(3)\n",
    "        s1=driver.find_element_by_xpath(\"/html/body/div[2]/div/section/div[1]/div/div[1]/section/div/div/div/div[1]/div[1]/div[2]/ul/li[1]/ul/li[1]/div/label/input\")\n",
    "        s1.click()\n",
    "        s1.send_keys(i)\n",
    "        s1.send_keys(Keys.ENTER)\n",
    "        time.sleep(2)\n",
    "        s2=driver.find_element_by_xpath(\"/html/body/div[2]/div/section/div[1]/div/div[1]/section/div/div/div/div[1]/div[1]/div[2]/ul/li[1]/ul/li[3]/div/label/input\")\n",
    "        s2.click()\n",
    "        s2.send_keys(j)\n",
    "        s2.send_keys(Keys.ENTER)\n",
    "        time.sleep(2)\n",
    "        driver.find_element_by_xpath(\"/html/body/div[2]/div/section/div[1]/div/div[1]/section/div/div/div/div[1]/div[1]/div[2]/ul/li[2]/ul/li[1]/section/label/input\").click()\n",
    "        time.sleep(2)\n",
    "        driver.find_element_by_xpath(\"/html/body/div[2]/div/section/div[1]/div/div[1]/section/div/div/div/div[1]/div[1]/div[2]/ul/li[2]/ul/li[1]/section/div/div[2]/div[2]/div[2]/div[2]/div/div[2]/table/tbody/tr[3]/td[5]\").click()\n",
    "        time.sleep(2)\n",
    "        driver.find_element_by_xpath(\"/html/body/div[2]/div/section/div[1]/div/div[1]/section/div/div/div/div[1]/div[3]/div[2]/input\").click()\n",
    "        time.sleep(7)\n",
    "        products = driver.find_elements(By.XPATH,\"//div[@class='flight-seg col-12']//div[@class='flightItem border-shadow pr']\")\n",
    "        for product in products:\n",
    "            airline=product.find_element(By.XPATH,\".//div[@class='fs-13 airline-name no-pad col-8']/span\").text\n",
    "            source=i\n",
    "            destination=j\n",
    "            dep=product.find_element(By.XPATH,\".//div[@class='i-b pr']\").text\n",
    "            arr=product.find_element(By.XPATH,\".//p[@class='bold fs-15 mb-2 pr time']\").text\n",
    "            dur=product.find_element(By.XPATH,\".//p[@class='fs-12 bold du mb-2']\").text\n",
    "            ts=product.find_element(By.XPATH,\".//div[@class=' font-lightgrey fs-10 tipsy i-b fs-10']/span\").text\n",
    "            p=product.find_element(By.XPATH,\".//div[@class='i-b tipsy fare-summary-tooltip fs-18']\").text\n",
    "            date=\"27/02/2022\"\n",
    "            data.append([airline,source,destination,dep,arr,dur,ts,p,date])"
   ]
  },
  {
   "cell_type": "code",
   "execution_count": null,
   "metadata": {},
   "outputs": [],
   "source": [
    "len(data)"
   ]
  },
  {
   "cell_type": "code",
   "execution_count": null,
   "metadata": {},
   "outputs": [],
   "source": [
    "df3=pd.DataFrame(data,columns=columns)\n",
    "df3"
   ]
  },
  {
   "cell_type": "code",
   "execution_count": null,
   "metadata": {},
   "outputs": [],
   "source": [
    "df_final=pd.concat([df1,df2,df3],ignore_index=True)\n",
    "df_final"
   ]
  },
  {
   "cell_type": "code",
   "execution_count": null,
   "metadata": {},
   "outputs": [],
   "source": [
    "df_final"
   ]
  },
  {
   "cell_type": "code",
   "execution_count": null,
   "metadata": {},
   "outputs": [],
   "source": [
    "df_final.to_csv(\"flight_price_prediction_dataset.csv\",index=False)"
   ]
  },
  {
   "cell_type": "code",
   "execution_count": null,
   "metadata": {},
   "outputs": [],
   "source": []
  }
 ],
 "metadata": {
  "kernelspec": {
   "display_name": "Python 3",
   "language": "python",
   "name": "python3"
  },
  "language_info": {
   "codemirror_mode": {
    "name": "ipython",
    "version": 3
   },
   "file_extension": ".py",
   "mimetype": "text/x-python",
   "name": "python",
   "nbconvert_exporter": "python",
   "pygments_lexer": "ipython3",
   "version": "3.8.5"
  }
 },
 "nbformat": 4,
 "nbformat_minor": 4
}
